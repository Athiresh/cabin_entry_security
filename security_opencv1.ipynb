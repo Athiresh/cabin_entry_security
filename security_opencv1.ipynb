{
 "cells": [
  {
   "cell_type": "code",
   "execution_count": 18,
   "metadata": {},
   "outputs": [],
   "source": [
    "import cv2 # importing the package"
   ]
  },
  {
   "cell_type": "code",
   "execution_count": 19,
   "metadata": {},
   "outputs": [],
   "source": [
    "# creating objects using haar cascade classifiers\n",
    "eye=cv2.CascadeClassifier(r\"D:\\Others\\Projects\\Project OpenCV\\Cabin Security\\haarcascade_eye.xml\")\n",
    "face=cv2.CascadeClassifier(r\"D:\\Others\\Projects\\Project OpenCV\\Cabin Security\\haarcascade_frontalface_default.xml\")"
   ]
  },
  {
   "cell_type": "code",
   "execution_count": 20,
   "metadata": {},
   "outputs": [],
   "source": [
    "alarm_status=False\n",
    "import winsound\n",
    "# importing packages for audio playback"
   ]
  },
  {
   "cell_type": "code",
   "execution_count": 21,
   "metadata": {},
   "outputs": [
    {
     "name": "stdout",
     "output_type": "stream",
     "text": [
      "Vacant\n",
      "Vacant\n",
      "Vacant\n",
      "Vacant\n",
      "Vacant\n",
      "Vacant\n",
      "Vacant\n",
      "Vacant\n",
      "Vacant\n",
      "Vacant\n",
      "Vacant\n",
      "Vacant\n",
      "Vacant\n",
      "Vacant\n",
      "Vacant\n",
      "Vacant\n",
      "Vacant\n",
      "Vacant\n",
      "Vacant\n",
      "Vacant\n",
      "Vacant\n",
      "Vacant\n",
      "Vacant\n",
      "Vacant\n",
      "Vacant\n",
      "Vacant\n",
      "Vacant\n",
      "Vacant\n",
      "Vacant\n",
      "Vacant\n",
      "Vacant\n",
      "Vacant\n",
      "Vacant\n",
      "Vacant\n",
      "Vacant\n",
      "Vacant\n",
      "Vacant\n",
      "Vacant\n",
      "Vacant\n",
      "Vacant\n",
      "Vacant\n",
      "Vacant\n",
      "Vacant\n",
      "Vacant\n",
      "Vacant\n"
     ]
    }
   ],
   "source": [
    "cap=cv2.VideoCapture(0)\n",
    "found=False\n",
    "while True:\n",
    "    suc,img=cap.read() # capturing frame by frame\n",
    "    # applying gray scaling for the frames\n",
    "    gray=cv2.cvtColor(img,cv2.COLOR_BGR2GRAY)\n",
    "    eyes=eye.detectMultiScale(gray,scaleFactor=1.1,minNeighbors=15)\n",
    "    faces=face.detectMultiScale(gray,scaleFactor=1.1,minNeighbors=15)\n",
    "    if len(eyes)>0:\n",
    "        for (x,y,w,h) in eyes:\n",
    "            cv2.rectangle(img,(x,y),(x+w,y+h),(0,0,255),3) # marking eyes detected using rectangle\n",
    "    if len(faces)>0:\n",
    "        for (p,q,r,s) in faces:\n",
    "            cv2.rectangle(img,(p,q),(p+r,q+s),(20,180,30),3) # marking face detected using rectangle\n",
    "    if (len(faces)<1) & (len(eyes)<1):\n",
    "        cv2.putText(img,\"Vacant......\",(15,440),cv2.FONT_HERSHEY_COMPLEX,2,(0,255,0),3) # detecting any changes \n",
    "        print('Vacant')\n",
    "    if(len(faces)>0) & (len(eyes)>0): # case when eyes and face is detected\n",
    "            cv2.putText(img,\"NORMAL\",(15,440),cv2.FONT_HERSHEY_COMPLEX,2,(0,255,0),3)\n",
    "            print('Normal')\n",
    "    if(len(faces)>0) & (len(eyes)<1):\n",
    "            cv2.putText(img,\"NORMAL\",(15,440),cv2.FONT_HERSHEY_COMPLEX,2,(0,255,0),3)\n",
    "    if(len(eyes)>0) & (len(faces)<1):\n",
    "            found=True\n",
    "            cv2.putText(img,\"ALERT...!!!\",(15,440),cv2.FONT_HERSHEY_COMPLEX,2,(0,0,255),3) # case when only eyes are detected missing the face\n",
    "            print(\"Suspicious\")\n",
    "            if alarm_status==False:\n",
    "                winsound.PlaySound(r\"D:\\Others\\Projects\\Project OpenCV\\Cabin Security\\alarm.wav\",winsound.SND_ASYNC) # audio playback for alert notification\n",
    "                alarm_status=True\n",
    "\n",
    "    cv2.imshow('image',img)\n",
    "    if cv2.waitKey(1) & 0XFF==ord('q'):\n",
    "        break\n",
    "cap.release() # realeasing the video capture\n",
    "cv2.destroyAllWindows()"
   ]
  }
 ],
 "metadata": {
  "kernelspec": {
   "display_name": "Python 3",
   "language": "python",
   "name": "python3"
  },
  "language_info": {
   "codemirror_mode": {
    "name": "ipython",
    "version": 3
   },
   "file_extension": ".py",
   "mimetype": "text/x-python",
   "name": "python",
   "nbconvert_exporter": "python",
   "pygments_lexer": "ipython3",
   "version": "3.11.1"
  },
  "orig_nbformat": 4
 },
 "nbformat": 4,
 "nbformat_minor": 2
}
